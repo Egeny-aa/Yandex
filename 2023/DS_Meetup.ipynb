{
 "cells": [
  {
   "cell_type": "markdown",
   "id": "1627edc5",
   "metadata": {},
   "source": [
    "# Отборочный на Inter Data Science Meetup от Яндекса 2023\n",
    "Задание 3"
   ]
  },
  {
   "cell_type": "code",
   "execution_count": null,
   "id": "0c4e5bc8",
   "metadata": {},
   "outputs": [],
   "source": [
    "from heapq import heappop, heappush\n",
    "from collections import deque\n",
    "\n",
    "with open('input.txt') as f:\n",
    "    n,k = map(int, f.readline().split())\n",
    "    \n",
    "    mape = {}\n",
    "    pre_ans = [0] * n\n",
    "    \n",
    "    for i in range(n):\n",
    "        num = int(f.readline())\n",
    "\n",
    "        if num not in mape:\n",
    "            mape[num] = deque([i])\n",
    "        else:\n",
    "            mape[num].append(i)\n",
    "        pre_ans[i] = num\n",
    "    \n",
    "    heap = []\n",
    "    ans = []\n",
    "    \n",
    "    for i in mape:\n",
    "        heappush(heap, (mape[i], i))       \n",
    "        \n",
    "    print(heap)\n",
    "    while heap:\n",
    "        \n",
    "        lis, node = heappop(heap)\n",
    "        \n",
    "        if ans == []:\n",
    "            ans.append(lis.popleft())\n",
    "            if lis:\n",
    "                heappush(heap, (lis, node))\n",
    "            \n",
    "        else:\n",
    "            if pre_ans[ans[-1]] != node:\n",
    "                ans.append(lis.popleft())\n",
    "                heappush(heap, (lis, node))\n",
    "                \n",
    "            else:\n",
    "                if heap:\n",
    "                    lis2, node2 = heappop(heap)\n",
    "                    ans.append(lis2.popleft())\n",
    "                    if lis:\n",
    "                        heappush(heap, (lis, node))\n",
    "                    if lis2:\n",
    "                        heappush(heap, (lis2, node2))\n",
    "                else:\n",
    "                    break\n",
    "        \n",
    "    print(*ans)\n",
    "                "
   ]
  }
 ],
 "metadata": {
  "kernelspec": {
   "display_name": "Python 3 (ipykernel)",
   "language": "python",
   "name": "python3"
  },
  "language_info": {
   "codemirror_mode": {
    "name": "ipython",
    "version": 3
   },
   "file_extension": ".py",
   "mimetype": "text/x-python",
   "name": "python",
   "nbconvert_exporter": "python",
   "pygments_lexer": "ipython3",
   "version": "3.11.3"
  }
 },
 "nbformat": 4,
 "nbformat_minor": 5
}
